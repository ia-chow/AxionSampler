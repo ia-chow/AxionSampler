{
 "cells": [
  {
   "cell_type": "code",
   "execution_count": 1,
   "metadata": {},
   "outputs": [],
   "source": [
    "#!/usr/bin/env python\n",
    "from __future__ import absolute_import, unicode_literals, print_function\n",
    "import numpy as np\n",
    "from numpy import pi, cos\n",
    "from pymultinest.solve import solve, run\n",
    "import os\n",
    "import matplotlib.pyplot as plt\n",
    "try: os.mkdir('chains')\n",
    "except OSError: pass"
   ]
  },
  {
   "cell_type": "code",
   "execution_count": 2,
   "metadata": {},
   "outputs": [
    {
     "data": {
      "text/plain": [
       "[<matplotlib.lines.Line2D at 0x7f1a2e99c970>]"
      ]
     },
     "execution_count": 2,
     "metadata": {},
     "output_type": "execute_result"
    },
    {
     "data": {
      "image/png": "[encoded data removed]",
      "text/plain": [
       "<Figure size 432x288 with 1 Axes>"
      ]
     },
     "metadata": {
      "needs_background": "light"
     },
     "output_type": "display_data"
    }
   ],
   "source": [
    "x = np.linspace(-5, 5, 1000) \n",
    "y = np.linspace(-5, 5, 1000) \n",
    "\n",
    "plt.plot(np.exp(-((x ** 2)/0.1 + (y ** 2)/0.1)))"
   ]
  },
  {
   "cell_type": "code",
   "execution_count": 3,
   "metadata": {},
   "outputs": [],
   "source": [
    "# (-2, 2), (-2, 2)\n",
    "\n",
    "def myprior(cube):\n",
    "    cube[0] = (cube[0] - 0.5) * 10\n",
    "    cube[1] = (cube[1] - 0.5) * 10 # transforms from (0, 1), (0, 1) to (-5, 5), (-5, 5)\n",
    "    return cube  \n",
    "\n",
    "def myloglike(cube):\n",
    "    # print(f'CUBE:{cube}')\n",
    "    return np.exp(-(cube[0] ** 2 + cube[1] ** 2)/1.)\n",
    "    \n",
    "#     x = np.exp(-cube[0] ** 2)\n",
    "#     y = np.exp(-cube[1] ** 2) # gaussian\n",
    "#     # print(gaussian)\n",
    "#     return x*y  # centered on 0"
   ]
  },
  {
   "cell_type": "code",
   "execution_count": null,
   "metadata": {},
   "outputs": [],
   "source": [
    "# number of dimensions our problem has\n",
    "parameters = [\"x\", \"y\"]\n",
    "n_params = len(parameters)\n",
    "# name of the output files\n",
    "prefix = \"chains/3-\"\n",
    "\n",
    "# run MultiNest\n",
    "result = solve(LogLikelihood=myloglike, Prior=myprior, \n",
    "               n_dims=n_params, n_live_points=int(1e5), evidence_tolerance=0.1, outputfiles_basename=prefix, verbose=True)\n",
    "# run()\n",
    "# print()\n",
    "# print('evidence: %(logZ).1f +- %(logZerr).1f' % result)\n",
    "# print()\n",
    "# print('parameter values:')\n",
    "# for name, col in zip(parameters, result['samples'].transpose()):\n",
    "# \tprint('%15s : %.3f +- %.3f' % (name, col.mean(), col.std()))\n",
    "\n",
    "# make marginal plots by running:\n",
    "# $ python multinest_marginals.py chains/3-\n",
    "# For that, we need to store the parameter names:\n",
    "# import json\n",
    "# with open('%sparams.json' % prefix, 'w') as f:\n",
    "# \tjson.dump(parameters, f, indent=2)"
   ]
  },
  {
   "cell_type": "code",
   "execution_count": null,
   "metadata": {},
   "outputs": [],
   "source": [
    "result['samples'].shape"
   ]
  },
  {
   "cell_type": "code",
   "execution_count": null,
   "metadata": {},
   "outputs": [],
   "source": [
    "import corner\n",
    "from matplotlib.colors import LogNorm\n",
    "x_samples = result['samples'][:,0]\n",
    "y_samples = result['samples'][:,1]\n",
    "plt.hist2d(x_samples.reshape(-1), y_samples.reshape(-1), norm = LogNorm(), bins=1000)\n",
    "#corner.hist2d(x_samples, y_samples, s=0.1, bins=200, plot_datapoints=False, plot_density=False, levels=[0.68, 0.95, 0.99], color='r')\n",
    "plt.savefig('2dgaussian.png', fmt='png')"
   ]
  },
  {
   "cell_type": "code",
   "execution_count": null,
   "metadata": {},
   "outputs": [],
   "source": [
    "fig, ax = plt.subplots(1, 2, figsize = (12, 5))\n",
    "ax[0].hist(x_samples)\n",
    "ax[0].set_xlabel('x')\n",
    "ax[1].hist(y_samples)\n",
    "ax[1].set_xlabel('y')\n",
    "plt.savefig('1d_histograms.png', fmt='png')"
   ]
  },
  {
   "cell_type": "code",
   "execution_count": null,
   "metadata": {},
   "outputs": [],
   "source": [
    "# plt.hist(result['samples'])\n",
    "# plt.savefig('gaussian.png', fmt='png')"
   ]
  },
  {
   "cell_type": "code",
   "execution_count": null,
   "metadata": {},
   "outputs": [],
   "source": []
  }
 ],
 "metadata": {
  "kernelspec": {
   "display_name": "Python 3",
   "language": "python",
   "name": "python3"
  },
  "language_info": {
   "codemirror_mode": {
    "name": "ipython",
    "version": 3
   },
   "file_extension": ".py",
   "mimetype": "text/x-python",
   "name": "python",
   "nbconvert_exporter": "python",
   "pygments_lexer": "ipython3",
   "version": "3.8.10"
  }
 },
 "nbformat": 4,
 "nbformat_minor": 4
}
